{
 "cells": [
  {
   "cell_type": "code",
   "execution_count": 2,
   "metadata": {},
   "outputs": [],
   "source": [
    "# !conda install pytesseract PIL -y"
   ]
  },
  {
   "cell_type": "code",
   "execution_count": 6,
   "metadata": {},
   "outputs": [],
   "source": [
    "from dotenv import load_dotenv\n",
    "from openai import AssistantEventHandler, OpenAI\n",
    "from PIL import Image\n",
    "import numpy as np\n",
    "import os\n",
    "import pandas as pd\n",
    "import pytesseract\n",
    "import time\n",
    "import utils"
   ]
  },
  {
   "cell_type": "code",
   "execution_count": 26,
   "metadata": {},
   "outputs": [],
   "source": [
    "load_dotenv()\n",
    "\n",
    "api_key = os.getenv('OPENAI_API_KEY')\n",
    "asst_id = os.getenv('OPENAI_ASST_ID')\n",
    "img_text_flag = True\n",
    "\n",
    "client = OpenAI()"
   ]
  },
  {
   "cell_type": "code",
   "execution_count": 9,
   "metadata": {},
   "outputs": [],
   "source": [
    "def validate_env(env_key):\n",
    "    if env_key is None:\n",
    "        raise Exception(f\"{env_key} is not set in the environment.\\n\\\n",
    "                        Please set it in a .env file or in the environment variables.\")"
   ]
  },
  {
   "cell_type": "code",
   "execution_count": 10,
   "metadata": {},
   "outputs": [],
   "source": [
    "validate_env(api_key)\n",
    "validate_env(asst_id)"
   ]
  },
  {
   "cell_type": "code",
   "execution_count": 8,
   "metadata": {},
   "outputs": [],
   "source": [
    "\"\"\" if api_key is None:\n",
    "    raise ValueError(\"API key is not set. Please set the OPENAI_API_KEY environment variable.\")\n",
    "\n",
    "if asst_id is None:\n",
    "    raise ValueError(\"Assistant ID is not set. Please set the OPENAI_ASST_ID environment variable.\") \"\"\""
   ]
  },
  {
   "cell_type": "code",
   "execution_count": 4,
   "metadata": {},
   "outputs": [],
   "source": [
    "tesseract = \"/opt/homebrew/Cellar/tesseract/5.3.4_1/bin/tesseract\""
   ]
  },
  {
   "cell_type": "code",
   "execution_count": 15,
   "metadata": {},
   "outputs": [
    {
     "data": {
      "text/plain": [
       "Assistant(id='asst_pR8UiZJBgX9EDzTnpsAnuWcZ', created_at=1713814956, description=None, instructions=\"You are an assistant named Timothy and you have a wide specialization in the medical field, your main tasks are to help and provide assistance to medical students regarding research papers, and information on various subjects, helping summarizing PDF files that they may need to get the main ideas from, and to search for any information related to any medical field.\\nIf requested, you'll summarize a file and extract the main ideas, allowing the user to get a better grasp on the topic at hand.\\nYou can understand English and Spanish and, in case it's not specified, answer back in the language that the question was originally asked in.\\nIf a user starts a conversation greeting you, you will gesture back and introduce yourself in a gentlemanly way.\", metadata={}, model='gpt-4-turbo', name='MediBot', object='assistant', tools=[FileSearchTool(type='file_search')], response_format='auto', temperature=0.75, tool_resources=ToolResources(code_interpreter=None, file_search=ToolResourcesFileSearch(vector_store_ids=[])), top_p=1.0)"
      ]
     },
     "execution_count": 15,
     "metadata": {},
     "output_type": "execute_result"
    }
   ],
   "source": [
    "assistant = client.beta.assistants.retrieve(asst_id)\n",
    "# assistant\n",
    "ai_inst = assistant.instructions\n",
    "assistant"
   ]
  },
  {
   "cell_type": "code",
   "execution_count": 24,
   "metadata": {},
   "outputs": [],
   "source": [
    "def img_to_text(img_path):\n",
    "    img = Image.open(img_path)\n",
    "    img_text = pytesseract.image_to_string(img)\n",
    "    return img_text"
   ]
  },
  {
   "cell_type": "code",
   "execution_count": 25,
   "metadata": {},
   "outputs": [],
   "source": [
    "img_text = img_to_text(\"./Imgs/Test-1.png\")"
   ]
  },
  {
   "cell_type": "code",
   "execution_count": null,
   "metadata": {},
   "outputs": [],
   "source": [
    "if img_text_flag:\n",
    "    img_proc = f\"\\nIn case a user uploads a file, you can find the information in the following section:\\n{img_text}\"\n",
    "    ai_inst+=img_proc\n",
    "    "
   ]
  },
  {
   "cell_type": "code",
   "execution_count": 22,
   "metadata": {},
   "outputs": [
    {
     "data": {
      "text/plain": [
       "\"You are an assistant named Timothy and you have a wide specialization in the medical field, your main tasks are to help and provide assistance to medical students regarding research papers, and information on various subjects, helping summarizing PDF files that they may need to get the main ideas from, and to search for any information related to any medical field.\\nIf requested, you'll summarize a file and extract the main ideas, allowing the user to get a better grasp on the topic at hand.\\nYou can understand English and Spanish and, in case it's not specified, answer back in the language that the question was originally asked in.\\nIf a user starts a conversation greeting you, you will gesture back and introduce yourself in a gentlemanly way.\\nIn case a user uploads a file, you can find the information in the following section:\\nBlog\\n\\nIntroducing\\n\\nmore enterprise-\\ngrade features for\\nAPI customers\\n\\nIncreasing enterprise support with more security\\nfeatures and controls, updates to our Assistants\\nAPI, and tools to better manage costs.\\n\""
      ]
     },
     "execution_count": 22,
     "metadata": {},
     "output_type": "execute_result"
    }
   ],
   "source": [
    "img_proc = f\"\\nIn case a user uploads a file, you can find the information in the following section:\\n{img_text}\"\n",
    "ai_inst+=img_proc\n",
    "\n",
    "ai_inst"
   ]
  },
  {
   "cell_type": "code",
   "execution_count": 17,
   "metadata": {},
   "outputs": [
    {
     "data": {
      "text/plain": [
       "SyncCursorPage[Assistant](data=[Assistant(id='asst_pR8UiZJBgX9EDzTnpsAnuWcZ', created_at=1713814956, description=None, instructions=\"You are an assistant named Timothy and you have a wide specialization in the medical field, your main tasks are to help and provide assistance to medical students regarding research papers, and information on various subjects, helping summarizing PDF files that they may need to get the main ideas from, and to search for any information related to any medical field.\\nIf requested, you'll summarize a file and extract the main ideas, allowing the user to get a better grasp on the topic at hand.\\nYou can understand English and Spanish and, in case it's not specified, answer back in the language that the question was originally asked in.\\nIf a user starts a conversation greeting you, you will gesture back and introduce yourself in a gentlemanly way.\", metadata={}, model='gpt-4-turbo', name='MediBot', object='assistant', tools=[FileSearchTool(type='file_search')], response_format='auto', temperature=0.75, tool_resources=ToolResources(code_interpreter=None, file_search=ToolResourcesFileSearch(vector_store_ids=[])), top_p=1.0)], object='list', first_id='asst_pR8UiZJBgX9EDzTnpsAnuWcZ', last_id='asst_pR8UiZJBgX9EDzTnpsAnuWcZ', has_more=False)"
      ]
     },
     "execution_count": 17,
     "metadata": {},
     "output_type": "execute_result"
    }
   ],
   "source": [
    "client.beta.assistants.list()"
   ]
  },
  {
   "cell_type": "code",
   "execution_count": null,
   "metadata": {},
   "outputs": [],
   "source": [
    "client.beta.assistants.update(\n",
    "    assistant_id=asst_id\n",
    "    instructions=\n",
    "    )"
   ]
  },
  {
   "cell_type": "code",
   "execution_count": 12,
   "metadata": {},
   "outputs": [
    {
     "data": {
      "text/plain": [
       "Thread(id='thread_v7OMwhqmnm0AE33dg7dqMHGi', created_at=1713918519, metadata={}, object='thread', tool_resources=ToolResources(code_interpreter=None, file_search=None))"
      ]
     },
     "execution_count": 12,
     "metadata": {},
     "output_type": "execute_result"
    }
   ],
   "source": [
    "thread = client.beta.threads.create()\n",
    "thread"
   ]
  },
  {
   "cell_type": "code",
   "execution_count": 13,
   "metadata": {},
   "outputs": [],
   "source": [
    "user_question = input(\"Input your question here: \")"
   ]
  },
  {
   "cell_type": "code",
   "execution_count": null,
   "metadata": {},
   "outputs": [],
   "source": [
    "message = client.beta.threads.messages.create(\n",
    "  thread_id=thread.id,\n",
    "  role=\"user\",\n",
    "  content=user_question\n",
    ")\n"
   ]
  }
 ],
 "metadata": {
  "kernelspec": {
   "display_name": "ai-dev",
   "language": "python",
   "name": "python3"
  },
  "language_info": {
   "codemirror_mode": {
    "name": "ipython",
    "version": 3
   },
   "file_extension": ".py",
   "mimetype": "text/x-python",
   "name": "python",
   "nbconvert_exporter": "python",
   "pygments_lexer": "ipython3",
   "version": "3.11.9"
  }
 },
 "nbformat": 4,
 "nbformat_minor": 2
}
