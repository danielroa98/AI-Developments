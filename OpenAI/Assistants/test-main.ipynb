{
 "cells": [
  {
   "cell_type": "code",
   "execution_count": 1,
   "metadata": {},
   "outputs": [],
   "source": [
    "# !conda install python-dotenv -y\n"
   ]
  },
  {
   "cell_type": "code",
   "execution_count": 2,
   "metadata": {},
   "outputs": [],
   "source": [
    "from dotenv import load_dotenv\n",
    "from openai import AssistantEventHandler, OpenAI\n",
    "from typing_extensions import override\n",
    "import os\n",
    "import random\n",
    "import time\n",
    "import utils\n",
    "\n",
    "load_dotenv()\n",
    "api_key = os.getenv('OPENAI_API_KEY')\n",
    "asst_id = os.getenv('OPENAI_ASST_ID')\n",
    "\n",
    "client = OpenAI()"
   ]
  },
  {
   "cell_type": "code",
   "execution_count": 3,
   "metadata": {},
   "outputs": [],
   "source": [
    "if api_key is None:\n",
    "    raise ValueError(\"API key is not set. Please set the OPENAI_API_KEY environment variable.\")\n",
    "\n",
    "if asst_id is None:\n",
    "    raise ValueError(\"Assistant ID is not set. Please set the OPENAI_ASST_ID environment variable.\")"
   ]
  },
  {
   "cell_type": "code",
   "execution_count": 4,
   "metadata": {},
   "outputs": [],
   "source": [
    "# class EventHandler(AssistantEventHandler):\n",
    "#     \"\"\"\n",
    "#     Handles events triggered by the assistant.\n",
    "#     \"\"\"\n",
    "\n",
    "#     @override\n",
    "#     def on_text_created(self, text) -> None:\n",
    "#         \"\"\"\n",
    "#         Called when a new text is created.\n",
    "\n",
    "#         Args:\n",
    "#             text: The newly created text.\n",
    "#         \"\"\"\n",
    "#         print(f\"\\nassistant > \", end=\"\", flush=True)\n",
    "\n",
    "#     @override\n",
    "#     def on_text_delta(self, delta, snapshot):\n",
    "#         \"\"\"\n",
    "#         Called when a text delta is received.\n",
    "\n",
    "#         Args:\n",
    "#             delta: The text delta.\n",
    "#             snapshot: The current snapshot of the text.\n",
    "#         \"\"\"\n",
    "#         print(delta.value, end=\"\", flush=True)\n",
    "\n",
    "#     def on_tool_call_created(self, tool_call):\n",
    "#         \"\"\"\n",
    "#         Called when a new tool call is created.\n",
    "\n",
    "#         Args:\n",
    "#             tool_call: The newly created tool call.\n",
    "#         \"\"\"\n",
    "#         print(f\"\\nassistant > {tool_call.type}\\n\", flush=True)\n",
    "\n",
    "#     def on_tool_call_delta(self, delta, snapshot):\n",
    "#         \"\"\"\n",
    "#         Called when a tool call delta is received.\n",
    "\n",
    "#         Args:\n",
    "#             delta: The tool call delta.\n",
    "#             snapshot: The current snapshot of the tool call.\n",
    "#         \"\"\"\n",
    "#         if delta.type == 'code_interpreter':\n",
    "#             if delta.code_interpreter.input:\n",
    "#                 print(delta.code_interpreter.input, end=\"\", flush=True)\n",
    "#             if delta.code_interpreter.outputs:\n",
    "#                 print(f\"\\n\\noutput >\", flush=True)\n",
    "#                 for output in delta.code_interpreter.outputs:\n",
    "#                     if output.type == \"logs\":\n",
    "#                         print(f\"\\n{output.logs}\", flush=True)\n",
    " \n",
    "# # Then, we use the `stream` SDK helper \n",
    "# # with the `EventHandler` class to create the Run \n",
    "# # and stream the response."
   ]
  },
  {
   "cell_type": "code",
   "execution_count": 5,
   "metadata": {},
   "outputs": [
    {
     "data": {
      "text/plain": [
       "\"You are an assistant named Timothy and you have a wide specialization in the medical field, your main tasks are to help and provide assistance to medical students regarding research papers, and information on various subjects, helping summarizing PDF files that they may need to get the main ideas from, and to search for any information related to any medical field.\\nIf requested, you'll summarize a file and extract the main ideas, allowing the user to get a better grasp on the topic at hand.\\nYou can understand English and Spanish and, in case it's not specified, answer back in the language that the question was originally asked in.\\nIf a user starts a conversation greeting you, you will gesture back and introduce yourself in a gentlemanly way.\""
      ]
     },
     "execution_count": 5,
     "metadata": {},
     "output_type": "execute_result"
    }
   ],
   "source": [
    "assistant = client.beta.assistants.retrieve(asst_id)\n",
    "assistant\n",
    "assistant.instructions"
   ]
  },
  {
   "cell_type": "code",
   "execution_count": 6,
   "metadata": {},
   "outputs": [
    {
     "data": {
      "text/plain": [
       "Thread(id='thread_Ld2OIR0Yih2hEP4vBIjCROOL', created_at=1713894292, metadata={}, object='thread', tool_resources=ToolResources(code_interpreter=None, file_search=None))"
      ]
     },
     "execution_count": 6,
     "metadata": {},
     "output_type": "execute_result"
    }
   ],
   "source": [
    "thread = client.beta.threads.create()\n",
    "thread"
   ]
  },
  {
   "cell_type": "code",
   "execution_count": 7,
   "metadata": {},
   "outputs": [],
   "source": [
    "user_question = input(\"You > \")"
   ]
  },
  {
   "cell_type": "code",
   "execution_count": 8,
   "metadata": {},
   "outputs": [
    {
     "ename": "BadRequestError",
     "evalue": "Error code: 400 - {'error': {'message': \"Invalid type for 'content': expected one of a string or array of objects, but got an object instead.\", 'type': 'invalid_request_error', 'param': 'content', 'code': 'invalid_type'}}",
     "output_type": "error",
     "traceback": [
      "\u001b[0;31m---------------------------------------------------------------------------\u001b[0m",
      "\u001b[0;31mBadRequestError\u001b[0m                           Traceback (most recent call last)",
      "Cell \u001b[0;32mIn[8], line 1\u001b[0m\n\u001b[0;32m----> 1\u001b[0m message \u001b[38;5;241m=\u001b[39m \u001b[43mclient\u001b[49m\u001b[38;5;241;43m.\u001b[39;49m\u001b[43mbeta\u001b[49m\u001b[38;5;241;43m.\u001b[39;49m\u001b[43mthreads\u001b[49m\u001b[38;5;241;43m.\u001b[39;49m\u001b[43mmessages\u001b[49m\u001b[38;5;241;43m.\u001b[39;49m\u001b[43mcreate\u001b[49m\u001b[43m(\u001b[49m\n\u001b[1;32m      2\u001b[0m \u001b[43m  \u001b[49m\u001b[43mthread_id\u001b[49m\u001b[38;5;241;43m=\u001b[39;49m\u001b[43mthread\u001b[49m\u001b[38;5;241;43m.\u001b[39;49m\u001b[43mid\u001b[49m\u001b[43m,\u001b[49m\n\u001b[1;32m      3\u001b[0m \u001b[43m  \u001b[49m\u001b[43mrole\u001b[49m\u001b[38;5;241;43m=\u001b[39;49m\u001b[38;5;124;43m\"\u001b[39;49m\u001b[38;5;124;43muser\u001b[39;49m\u001b[38;5;124;43m\"\u001b[39;49m\u001b[43m,\u001b[49m\n\u001b[1;32m      4\u001b[0m \u001b[43m  \u001b[49m\u001b[43mcontent\u001b[49m\u001b[38;5;241;43m=\u001b[39;49m\u001b[43m{\u001b[49m\u001b[38;5;124;43m\"\u001b[39;49m\u001b[38;5;124;43mtext\u001b[39;49m\u001b[38;5;124;43m\"\u001b[39;49m\u001b[43m:\u001b[49m\u001b[43m \u001b[49m\u001b[43muser_question\u001b[49m\u001b[43m}\u001b[49m\n\u001b[1;32m      5\u001b[0m \u001b[43m)\u001b[49m\n\u001b[1;32m      7\u001b[0m \u001b[38;5;66;03m# run = client.beta.\u001b[39;00m\n",
      "File \u001b[0;32m~/anaconda3/envs/ai-dev/lib/python3.11/site-packages/openai/resources/beta/threads/messages.py:85\u001b[0m, in \u001b[0;36mMessages.create\u001b[0;34m(self, thread_id, content, role, attachments, metadata, extra_headers, extra_query, extra_body, timeout)\u001b[0m\n\u001b[1;32m     83\u001b[0m     \u001b[38;5;28;01mraise\u001b[39;00m \u001b[38;5;167;01mValueError\u001b[39;00m(\u001b[38;5;124mf\u001b[39m\u001b[38;5;124m\"\u001b[39m\u001b[38;5;124mExpected a non-empty value for `thread_id` but received \u001b[39m\u001b[38;5;132;01m{\u001b[39;00mthread_id\u001b[38;5;132;01m!r}\u001b[39;00m\u001b[38;5;124m\"\u001b[39m)\n\u001b[1;32m     84\u001b[0m extra_headers \u001b[38;5;241m=\u001b[39m {\u001b[38;5;124m\"\u001b[39m\u001b[38;5;124mOpenAI-Beta\u001b[39m\u001b[38;5;124m\"\u001b[39m: \u001b[38;5;124m\"\u001b[39m\u001b[38;5;124massistants=v2\u001b[39m\u001b[38;5;124m\"\u001b[39m, \u001b[38;5;241m*\u001b[39m\u001b[38;5;241m*\u001b[39m(extra_headers \u001b[38;5;129;01mor\u001b[39;00m {})}\n\u001b[0;32m---> 85\u001b[0m \u001b[38;5;28;01mreturn\u001b[39;00m \u001b[38;5;28;43mself\u001b[39;49m\u001b[38;5;241;43m.\u001b[39;49m\u001b[43m_post\u001b[49m\u001b[43m(\u001b[49m\n\u001b[1;32m     86\u001b[0m \u001b[43m    \u001b[49m\u001b[38;5;124;43mf\u001b[39;49m\u001b[38;5;124;43m\"\u001b[39;49m\u001b[38;5;124;43m/threads/\u001b[39;49m\u001b[38;5;132;43;01m{\u001b[39;49;00m\u001b[43mthread_id\u001b[49m\u001b[38;5;132;43;01m}\u001b[39;49;00m\u001b[38;5;124;43m/messages\u001b[39;49m\u001b[38;5;124;43m\"\u001b[39;49m\u001b[43m,\u001b[49m\n\u001b[1;32m     87\u001b[0m \u001b[43m    \u001b[49m\u001b[43mbody\u001b[49m\u001b[38;5;241;43m=\u001b[39;49m\u001b[43mmaybe_transform\u001b[49m\u001b[43m(\u001b[49m\n\u001b[1;32m     88\u001b[0m \u001b[43m        \u001b[49m\u001b[43m{\u001b[49m\n\u001b[1;32m     89\u001b[0m \u001b[43m            \u001b[49m\u001b[38;5;124;43m\"\u001b[39;49m\u001b[38;5;124;43mcontent\u001b[39;49m\u001b[38;5;124;43m\"\u001b[39;49m\u001b[43m:\u001b[49m\u001b[43m \u001b[49m\u001b[43mcontent\u001b[49m\u001b[43m,\u001b[49m\n\u001b[1;32m     90\u001b[0m \u001b[43m            \u001b[49m\u001b[38;5;124;43m\"\u001b[39;49m\u001b[38;5;124;43mrole\u001b[39;49m\u001b[38;5;124;43m\"\u001b[39;49m\u001b[43m:\u001b[49m\u001b[43m \u001b[49m\u001b[43mrole\u001b[49m\u001b[43m,\u001b[49m\n\u001b[1;32m     91\u001b[0m \u001b[43m            \u001b[49m\u001b[38;5;124;43m\"\u001b[39;49m\u001b[38;5;124;43mattachments\u001b[39;49m\u001b[38;5;124;43m\"\u001b[39;49m\u001b[43m:\u001b[49m\u001b[43m \u001b[49m\u001b[43mattachments\u001b[49m\u001b[43m,\u001b[49m\n\u001b[1;32m     92\u001b[0m \u001b[43m            \u001b[49m\u001b[38;5;124;43m\"\u001b[39;49m\u001b[38;5;124;43mmetadata\u001b[39;49m\u001b[38;5;124;43m\"\u001b[39;49m\u001b[43m:\u001b[49m\u001b[43m \u001b[49m\u001b[43mmetadata\u001b[49m\u001b[43m,\u001b[49m\n\u001b[1;32m     93\u001b[0m \u001b[43m        \u001b[49m\u001b[43m}\u001b[49m\u001b[43m,\u001b[49m\n\u001b[1;32m     94\u001b[0m \u001b[43m        \u001b[49m\u001b[43mmessage_create_params\u001b[49m\u001b[38;5;241;43m.\u001b[39;49m\u001b[43mMessageCreateParams\u001b[49m\u001b[43m,\u001b[49m\n\u001b[1;32m     95\u001b[0m \u001b[43m    \u001b[49m\u001b[43m)\u001b[49m\u001b[43m,\u001b[49m\n\u001b[1;32m     96\u001b[0m \u001b[43m    \u001b[49m\u001b[43moptions\u001b[49m\u001b[38;5;241;43m=\u001b[39;49m\u001b[43mmake_request_options\u001b[49m\u001b[43m(\u001b[49m\n\u001b[1;32m     97\u001b[0m \u001b[43m        \u001b[49m\u001b[43mextra_headers\u001b[49m\u001b[38;5;241;43m=\u001b[39;49m\u001b[43mextra_headers\u001b[49m\u001b[43m,\u001b[49m\u001b[43m \u001b[49m\u001b[43mextra_query\u001b[49m\u001b[38;5;241;43m=\u001b[39;49m\u001b[43mextra_query\u001b[49m\u001b[43m,\u001b[49m\u001b[43m \u001b[49m\u001b[43mextra_body\u001b[49m\u001b[38;5;241;43m=\u001b[39;49m\u001b[43mextra_body\u001b[49m\u001b[43m,\u001b[49m\u001b[43m \u001b[49m\u001b[43mtimeout\u001b[49m\u001b[38;5;241;43m=\u001b[39;49m\u001b[43mtimeout\u001b[49m\n\u001b[1;32m     98\u001b[0m \u001b[43m    \u001b[49m\u001b[43m)\u001b[49m\u001b[43m,\u001b[49m\n\u001b[1;32m     99\u001b[0m \u001b[43m    \u001b[49m\u001b[43mcast_to\u001b[49m\u001b[38;5;241;43m=\u001b[39;49m\u001b[43mMessage\u001b[49m\u001b[43m,\u001b[49m\n\u001b[1;32m    100\u001b[0m \u001b[43m\u001b[49m\u001b[43m)\u001b[49m\n",
      "File \u001b[0;32m~/anaconda3/envs/ai-dev/lib/python3.11/site-packages/openai/_base_client.py:1232\u001b[0m, in \u001b[0;36mSyncAPIClient.post\u001b[0;34m(self, path, cast_to, body, options, files, stream, stream_cls)\u001b[0m\n\u001b[1;32m   1218\u001b[0m \u001b[38;5;28;01mdef\u001b[39;00m \u001b[38;5;21mpost\u001b[39m(\n\u001b[1;32m   1219\u001b[0m     \u001b[38;5;28mself\u001b[39m,\n\u001b[1;32m   1220\u001b[0m     path: \u001b[38;5;28mstr\u001b[39m,\n\u001b[0;32m   (...)\u001b[0m\n\u001b[1;32m   1227\u001b[0m     stream_cls: \u001b[38;5;28mtype\u001b[39m[_StreamT] \u001b[38;5;241m|\u001b[39m \u001b[38;5;28;01mNone\u001b[39;00m \u001b[38;5;241m=\u001b[39m \u001b[38;5;28;01mNone\u001b[39;00m,\n\u001b[1;32m   1228\u001b[0m ) \u001b[38;5;241m-\u001b[39m\u001b[38;5;241m>\u001b[39m ResponseT \u001b[38;5;241m|\u001b[39m _StreamT:\n\u001b[1;32m   1229\u001b[0m     opts \u001b[38;5;241m=\u001b[39m FinalRequestOptions\u001b[38;5;241m.\u001b[39mconstruct(\n\u001b[1;32m   1230\u001b[0m         method\u001b[38;5;241m=\u001b[39m\u001b[38;5;124m\"\u001b[39m\u001b[38;5;124mpost\u001b[39m\u001b[38;5;124m\"\u001b[39m, url\u001b[38;5;241m=\u001b[39mpath, json_data\u001b[38;5;241m=\u001b[39mbody, files\u001b[38;5;241m=\u001b[39mto_httpx_files(files), \u001b[38;5;241m*\u001b[39m\u001b[38;5;241m*\u001b[39moptions\n\u001b[1;32m   1231\u001b[0m     )\n\u001b[0;32m-> 1232\u001b[0m     \u001b[38;5;28;01mreturn\u001b[39;00m cast(ResponseT, \u001b[38;5;28;43mself\u001b[39;49m\u001b[38;5;241;43m.\u001b[39;49m\u001b[43mrequest\u001b[49m\u001b[43m(\u001b[49m\u001b[43mcast_to\u001b[49m\u001b[43m,\u001b[49m\u001b[43m \u001b[49m\u001b[43mopts\u001b[49m\u001b[43m,\u001b[49m\u001b[43m \u001b[49m\u001b[43mstream\u001b[49m\u001b[38;5;241;43m=\u001b[39;49m\u001b[43mstream\u001b[49m\u001b[43m,\u001b[49m\u001b[43m \u001b[49m\u001b[43mstream_cls\u001b[49m\u001b[38;5;241;43m=\u001b[39;49m\u001b[43mstream_cls\u001b[49m\u001b[43m)\u001b[49m)\n",
      "File \u001b[0;32m~/anaconda3/envs/ai-dev/lib/python3.11/site-packages/openai/_base_client.py:921\u001b[0m, in \u001b[0;36mSyncAPIClient.request\u001b[0;34m(self, cast_to, options, remaining_retries, stream, stream_cls)\u001b[0m\n\u001b[1;32m    912\u001b[0m \u001b[38;5;28;01mdef\u001b[39;00m \u001b[38;5;21mrequest\u001b[39m(\n\u001b[1;32m    913\u001b[0m     \u001b[38;5;28mself\u001b[39m,\n\u001b[1;32m    914\u001b[0m     cast_to: Type[ResponseT],\n\u001b[0;32m   (...)\u001b[0m\n\u001b[1;32m    919\u001b[0m     stream_cls: \u001b[38;5;28mtype\u001b[39m[_StreamT] \u001b[38;5;241m|\u001b[39m \u001b[38;5;28;01mNone\u001b[39;00m \u001b[38;5;241m=\u001b[39m \u001b[38;5;28;01mNone\u001b[39;00m,\n\u001b[1;32m    920\u001b[0m ) \u001b[38;5;241m-\u001b[39m\u001b[38;5;241m>\u001b[39m ResponseT \u001b[38;5;241m|\u001b[39m _StreamT:\n\u001b[0;32m--> 921\u001b[0m     \u001b[38;5;28;01mreturn\u001b[39;00m \u001b[38;5;28;43mself\u001b[39;49m\u001b[38;5;241;43m.\u001b[39;49m\u001b[43m_request\u001b[49m\u001b[43m(\u001b[49m\n\u001b[1;32m    922\u001b[0m \u001b[43m        \u001b[49m\u001b[43mcast_to\u001b[49m\u001b[38;5;241;43m=\u001b[39;49m\u001b[43mcast_to\u001b[49m\u001b[43m,\u001b[49m\n\u001b[1;32m    923\u001b[0m \u001b[43m        \u001b[49m\u001b[43moptions\u001b[49m\u001b[38;5;241;43m=\u001b[39;49m\u001b[43moptions\u001b[49m\u001b[43m,\u001b[49m\n\u001b[1;32m    924\u001b[0m \u001b[43m        \u001b[49m\u001b[43mstream\u001b[49m\u001b[38;5;241;43m=\u001b[39;49m\u001b[43mstream\u001b[49m\u001b[43m,\u001b[49m\n\u001b[1;32m    925\u001b[0m \u001b[43m        \u001b[49m\u001b[43mstream_cls\u001b[49m\u001b[38;5;241;43m=\u001b[39;49m\u001b[43mstream_cls\u001b[49m\u001b[43m,\u001b[49m\n\u001b[1;32m    926\u001b[0m \u001b[43m        \u001b[49m\u001b[43mremaining_retries\u001b[49m\u001b[38;5;241;43m=\u001b[39;49m\u001b[43mremaining_retries\u001b[49m\u001b[43m,\u001b[49m\n\u001b[1;32m    927\u001b[0m \u001b[43m    \u001b[49m\u001b[43m)\u001b[49m\n",
      "File \u001b[0;32m~/anaconda3/envs/ai-dev/lib/python3.11/site-packages/openai/_base_client.py:1012\u001b[0m, in \u001b[0;36mSyncAPIClient._request\u001b[0;34m(self, cast_to, options, remaining_retries, stream, stream_cls)\u001b[0m\n\u001b[1;32m   1009\u001b[0m         err\u001b[38;5;241m.\u001b[39mresponse\u001b[38;5;241m.\u001b[39mread()\n\u001b[1;32m   1011\u001b[0m     log\u001b[38;5;241m.\u001b[39mdebug(\u001b[38;5;124m\"\u001b[39m\u001b[38;5;124mRe-raising status error\u001b[39m\u001b[38;5;124m\"\u001b[39m)\n\u001b[0;32m-> 1012\u001b[0m     \u001b[38;5;28;01mraise\u001b[39;00m \u001b[38;5;28mself\u001b[39m\u001b[38;5;241m.\u001b[39m_make_status_error_from_response(err\u001b[38;5;241m.\u001b[39mresponse) \u001b[38;5;28;01mfrom\u001b[39;00m \u001b[38;5;28;01mNone\u001b[39;00m\n\u001b[1;32m   1014\u001b[0m \u001b[38;5;28;01mreturn\u001b[39;00m \u001b[38;5;28mself\u001b[39m\u001b[38;5;241m.\u001b[39m_process_response(\n\u001b[1;32m   1015\u001b[0m     cast_to\u001b[38;5;241m=\u001b[39mcast_to,\n\u001b[1;32m   1016\u001b[0m     options\u001b[38;5;241m=\u001b[39moptions,\n\u001b[0;32m   (...)\u001b[0m\n\u001b[1;32m   1019\u001b[0m     stream_cls\u001b[38;5;241m=\u001b[39mstream_cls,\n\u001b[1;32m   1020\u001b[0m )\n",
      "\u001b[0;31mBadRequestError\u001b[0m: Error code: 400 - {'error': {'message': \"Invalid type for 'content': expected one of a string or array of objects, but got an object instead.\", 'type': 'invalid_request_error', 'param': 'content', 'code': 'invalid_type'}}"
     ]
    }
   ],
   "source": [
    "message = client.beta.threads.messages.create(\n",
    "  thread_id=thread.id,\n",
    "  role=\"user\",\n",
    "  content=user_question\n",
    ")\n",
    "\n",
    "# run = client.beta."
   ]
  },
  {
   "cell_type": "code",
   "execution_count": null,
   "metadata": {},
   "outputs": [
    {
     "name": "stdout",
     "output_type": "stream",
     "text": [
      "\n",
      "assistant > Con mucho gusto te proporcionaré una descripción general sobre las variantes de la meningitis y su información básica.\n",
      "\n",
      "La meningitis es una inflamación de las meninges, las membranas que rodean el cerebro y la médula espinal. Puede ser causada por una variedad de organismos, incluidos virus, bacterias y hongos. Las variantes de la meningitis se clasifican principalmente según el agente causal:\n",
      "\n",
      "1. **Meningitis viral (aséptica)**:\n",
      "    - Es la forma más común.\n",
      "    - Usualmente menos severa que la meningitis bacteriana.\n",
      "    - Los síntomas incluyen fiebre, dolor de cabeza y rigidez en el cuello.\n",
      "    - Muchos casos se resuelven sin tratamiento específico.\n",
      "\n",
      "2. **Meningitis bacteriana**:\n",
      "    - Puede ser potencialmente mortal.\n",
      "    - Causada por bacterias como Neisseria meningitidis, Streptococcus pneumoniae, y Haemophilus influenzae tipo B.\n",
      "    - Los síntomas son más severos e incluyen alta fiebre, dolor de cabeza intenso, confusión, náuseas y sensibilidad a la luz.\n",
      "    - Requiere tratamiento inmediato con antibióticos.\n",
      "\n",
      "3. **Meningitis fúngica**:\n",
      "    - Menos común, usualmente afecta a personas con sistemas inmunitarios comprometidos.\n",
      "    - Causada por hongos como Cryptococcus, Coccidioides.\n",
      "    - El tratamiento incluye largos periodos de medicación antifúngica.\n",
      "\n",
      "La prevención de la meningitis incluye vacunación, que está disponible para algunas de las causas bacterianas y virales más comunes y peligrosas. La detección temprana y el tratamiento adecuado son cruciales para evitar complicaciones severas o la muerte en casos de meningitis bacteriana.\n",
      "\n",
      "Si necesitas información más detallada sobre algún tipo específico de meningitis o sobre tratamientos, prevención y síntomas detallados, siempre puedes preguntar!"
     ]
    }
   ],
   "source": [
    "with client.beta.threads.runs.stream(\n",
    "  thread_id=thread.id,\n",
    "  assistant_id=assistant.id,\n",
    "  instructions=assistant.instructions,\n",
    "  event_handler=utils.EventHandler(),\n",
    ") as stream:\n",
    "  stream.until_done()"
   ]
  },
  {
   "cell_type": "code",
   "execution_count": 30,
   "metadata": {},
   "outputs": [
    {
     "name": "stdout",
     "output_type": "stream",
     "text": [
      "assistant\n",
      "[TextContentBlock(text=Text(annotations=[], value='Con mucho gusto te proporcionaré una descripción general sobre las variantes de la meningitis y su información básica.\\n\\nLa meningitis es una inflamación de las meninges, las membranas que rodean el cerebro y la médula espinal. Puede ser causada por una variedad de organismos, incluidos virus, bacterias y hongos. Las variantes de la meningitis se clasifican principalmente según el agente causal:\\n\\n1. **Meningitis viral (aséptica)**:\\n    - Es la forma más común.\\n    - Usualmente menos severa que la meningitis bacteriana.\\n    - Los síntomas incluyen fiebre, dolor de cabeza y rigidez en el cuello.\\n    - Muchos casos se resuelven sin tratamiento específico.\\n\\n2. **Meningitis bacteriana**:\\n    - Puede ser potencialmente mortal.\\n    - Causada por bacterias como Neisseria meningitidis, Streptococcus pneumoniae, y Haemophilus influenzae tipo B.\\n    - Los síntomas son más severos e incluyen alta fiebre, dolor de cabeza intenso, confusión, náuseas y sensibilidad a la luz.\\n    - Requiere tratamiento inmediato con antibióticos.\\n\\n3. **Meningitis fúngica**:\\n    - Menos común, usualmente afecta a personas con sistemas inmunitarios comprometidos.\\n    - Causada por hongos como Cryptococcus, Coccidioides.\\n    - El tratamiento incluye largos periodos de medicación antifúngica.\\n\\nLa prevención de la meningitis incluye vacunación, que está disponible para algunas de las causas bacterianas y virales más comunes y peligrosas. La detección temprana y el tratamiento adecuado son cruciales para evitar complicaciones severas o la muerte en casos de meningitis bacteriana.\\n\\nSi necesitas información más detallada sobre algún tipo específico de meningitis o sobre tratamientos, prevención y síntomas detallados, siempre puedes preguntar!'), type='text')]\n",
      "Text(annotations=[], value='Con mucho gusto te proporcionaré una descripción general sobre las variantes de la meningitis y su información básica.\\n\\nLa meningitis es una inflamación de las meninges, las membranas que rodean el cerebro y la médula espinal. Puede ser causada por una variedad de organismos, incluidos virus, bacterias y hongos. Las variantes de la meningitis se clasifican principalmente según el agente causal:\\n\\n1. **Meningitis viral (aséptica)**:\\n    - Es la forma más común.\\n    - Usualmente menos severa que la meningitis bacteriana.\\n    - Los síntomas incluyen fiebre, dolor de cabeza y rigidez en el cuello.\\n    - Muchos casos se resuelven sin tratamiento específico.\\n\\n2. **Meningitis bacteriana**:\\n    - Puede ser potencialmente mortal.\\n    - Causada por bacterias como Neisseria meningitidis, Streptococcus pneumoniae, y Haemophilus influenzae tipo B.\\n    - Los síntomas son más severos e incluyen alta fiebre, dolor de cabeza intenso, confusión, náuseas y sensibilidad a la luz.\\n    - Requiere tratamiento inmediato con antibióticos.\\n\\n3. **Meningitis fúngica**:\\n    - Menos común, usualmente afecta a personas con sistemas inmunitarios comprometidos.\\n    - Causada por hongos como Cryptococcus, Coccidioides.\\n    - El tratamiento incluye largos periodos de medicación antifúngica.\\n\\nLa prevención de la meningitis incluye vacunación, que está disponible para algunas de las causas bacterianas y virales más comunes y peligrosas. La detección temprana y el tratamiento adecuado son cruciales para evitar complicaciones severas o la muerte en casos de meningitis bacteriana.\\n\\nSi necesitas información más detallada sobre algún tipo específico de meningitis o sobre tratamientos, prevención y síntomas detallados, siempre puedes preguntar!')\n",
      "user\n",
      "[TextContentBlock(text=Text(annotations=[], value='Quiero conocer mas sobre las variantes de la meningitis y su información básica.'), type='text')]\n",
      "Text(annotations=[], value='Quiero conocer mas sobre las variantes de la meningitis y su información básica.')\n"
     ]
    }
   ],
   "source": [
    "messages = client.beta.threads.messages.list(thread_id=thread.id)\n",
    "\n",
    "for message in messages:\n",
    "  print(message.role)\n",
    "  print(message.content)\n",
    "  print(message.content[0].text)"
   ]
  },
  {
   "cell_type": "code",
   "execution_count": 29,
   "metadata": {},
   "outputs": [
    {
     "name": "stdout",
     "output_type": "stream",
     "text": [
      "assistant\n",
      "Text(annotations=[], value='Con mucho gusto te proporcionaré una descripción general sobre las variantes de la meningitis y su información básica.\\n\\nLa meningitis es una inflamación de las meninges, las membranas que rodean el cerebro y la médula espinal. Puede ser causada por una variedad de organismos, incluidos virus, bacterias y hongos. Las variantes de la meningitis se clasifican principalmente según el agente causal:\\n\\n1. **Meningitis viral (aséptica)**:\\n    - Es la forma más común.\\n    - Usualmente menos severa que la meningitis bacteriana.\\n    - Los síntomas incluyen fiebre, dolor de cabeza y rigidez en el cuello.\\n    - Muchos casos se resuelven sin tratamiento específico.\\n\\n2. **Meningitis bacteriana**:\\n    - Puede ser potencialmente mortal.\\n    - Causada por bacterias como Neisseria meningitidis, Streptococcus pneumoniae, y Haemophilus influenzae tipo B.\\n    - Los síntomas son más severos e incluyen alta fiebre, dolor de cabeza intenso, confusión, náuseas y sensibilidad a la luz.\\n    - Requiere tratamiento inmediato con antibióticos.\\n\\n3. **Meningitis fúngica**:\\n    - Menos común, usualmente afecta a personas con sistemas inmunitarios comprometidos.\\n    - Causada por hongos como Cryptococcus, Coccidioides.\\n    - El tratamiento incluye largos periodos de medicación antifúngica.\\n\\nLa prevención de la meningitis incluye vacunación, que está disponible para algunas de las causas bacterianas y virales más comunes y peligrosas. La detección temprana y el tratamiento adecuado son cruciales para evitar complicaciones severas o la muerte en casos de meningitis bacteriana.\\n\\nSi necesitas información más detallada sobre algún tipo específico de meningitis o sobre tratamientos, prevención y síntomas detallados, siempre puedes preguntar!')\n",
      "user\n",
      "Text(annotations=[], value='Quiero conocer mas sobre las variantes de la meningitis y su información básica.')\n"
     ]
    }
   ],
   "source": [
    "messages = client.beta.threads.messages.list(thread_id=thread.id)\n",
    "\n",
    "for message in messages:\n",
    "  print(message.role)\n",
    "  print(message.content[0].text)"
   ]
  },
  {
   "cell_type": "code",
   "execution_count": null,
   "metadata": {},
   "outputs": [],
   "source": [
    "\"\"\" # Submit a user message to the thread\n",
    "message = openai.Message.create(\n",
    "    thread_id=thread.id,\n",
    "    role=\"user\",\n",
    "    content={\"type\": \"text\", \"text\": \"Your question or command here\"}\n",
    ")\n",
    "\n",
    "# Execute a run based on the thread\n",
    "run = openai.Run.create(thread_id=thread.id)\n",
    "\n",
    "# Wait for the run to complete and fetch messages\n",
    "completed_run = openai.Run.retrieve(run_id=run.id, thread_id=thread.id)\n",
    "messages = openai.Message.list(thread_id=thread.id)\n",
    " \"\"\""
   ]
  }
 ],
 "metadata": {
  "kernelspec": {
   "display_name": "ai-dev",
   "language": "python",
   "name": "python3"
  },
  "language_info": {
   "codemirror_mode": {
    "name": "ipython",
    "version": 3
   },
   "file_extension": ".py",
   "mimetype": "text/x-python",
   "name": "python",
   "nbconvert_exporter": "python",
   "pygments_lexer": "ipython3",
   "version": "3.11.9"
  }
 },
 "nbformat": 4,
 "nbformat_minor": 2
}
